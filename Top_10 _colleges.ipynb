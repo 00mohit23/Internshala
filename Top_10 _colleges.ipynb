{
 "cells": [
  {
   "cell_type": "markdown",
   "metadata": {},
   "source": [
    "## Installing pdfplumber to deal with pdfs"
   ]
  },
  {
   "cell_type": "code",
   "execution_count": 1,
   "metadata": {},
   "outputs": [],
   "source": [
    "# Uncomment the line below if required\n",
    "# pip install pdfplumber"
   ]
  },
  {
   "cell_type": "markdown",
   "metadata": {},
   "source": [
    "## Importing the required libraries"
   ]
  },
  {
   "cell_type": "code",
   "execution_count": 2,
   "metadata": {},
   "outputs": [],
   "source": [
    "from collections import namedtuple\n",
    "import re\n",
    "import pdfplumber\n",
    "import pandas as pd\n",
    "import numpy as np"
   ]
  },
  {
   "cell_type": "markdown",
   "metadata": {},
   "source": [
    "### Format of the dataframe columns"
   ]
  },
  {
   "cell_type": "code",
   "execution_count": 3,
   "metadata": {},
   "outputs": [],
   "source": [
    "Line = namedtuple('Line','home_university college_id college_name branch_id branch_name gopens_or_gopenh rank')"
   ]
  },
  {
   "cell_type": "markdown",
   "metadata": {},
   "source": [
    "#### Using regex to identify College name,College id,Branch name and Branch id"
   ]
  },
  {
   "cell_type": "code",
   "execution_count": 4,
   "metadata": {},
   "outputs": [],
   "source": [
    "college_re = re.compile(r'^(\\d{4}) \\- (.*)')\n",
    "branch_re = re.compile(r'^(\\d{9}) \\- (.*)')"
   ]
  },
  {
   "cell_type": "markdown",
   "metadata": {},
   "source": [
    "### Mining of data across all pages of pdf"
   ]
  },
  {
   "cell_type": "code",
   "execution_count": 26,
   "metadata": {},
   "outputs": [
    {
     "data": {
      "text/plain": [
       "[Line(home_university='Sant Gadge Baba Amravati University', college_id='1002', college_name='Government College of Engineering, Amravati', branch_id='100219110', branch_name='Civil Engineering', gopens_or_gopenh='GOPENS', rank=9698),\n",
       " Line(home_university='Dr. Babasaheb Ambedkar Technological University,Lonere', college_id='1012', college_name='Government Engineering College, Yavatmal', branch_id='101219110', branch_name='Civil Engineering', gopens_or_gopenh='GOPENH', rank=20224),\n",
       " Line(home_university='Sant Gadge Baba Amravati University', college_id='1105', college_name='Prof. Ram Meghe Institute of Technology & Research, Amravati', branch_id='110519110', branch_name='Civil Engineering', gopens_or_gopenh='GOPENH', rank=32149),\n",
       " Line(home_university='Sant Gadge Baba Amravati University', college_id='1105', college_name='Prof. Ram Meghe Institute of Technology & Research, Amravati', branch_id='110519120', branch_name='Civil Engineering', gopens_or_gopenh='GOPENH', rank=38173),\n",
       " Line(home_university='Sant Gadge Baba Amravati University', college_id='1107', college_name=\"P. R. Pote (Patil) Education & Welfare Trust's Group of Institution(Integrated Campus), Amravati\", branch_id='110719110', branch_name='Civil Engineering', gopens_or_gopenh='GOPENH', rank=43898)]"
      ]
     },
     "execution_count": 26,
     "metadata": {},
     "output_type": "execute_result"
    }
   ],
   "source": [
    "data=[]\n",
    "with pdfplumber.open(r\"C:\\Users\\Mohit Singh\\Desktop\\college_cutoffs.pdf\") as pdf:\n",
    "    pages = pdf.pages\n",
    "    for page in pages:\n",
    "        text = page.extract_text(x_tolerance = 2, y_tolerance =0)\n",
    "        rtext= text.split('\\n')\n",
    "        i=0\n",
    "        \n",
    "        while(i<len(rtext)):\n",
    "            g=\"\"\n",
    "            hom =\"\"\n",
    "            coll = college_re.search(rtext[i])\n",
    "            rank = 0\n",
    "            branch = branch_re.search(rtext[i])\n",
    "            if coll:\n",
    "                college_id, college_name = coll.group(1), coll.group(2)\n",
    "            if branch:\n",
    "                branch_id , branch_name = branch.group(1), branch.group(2)\n",
    "                if branch_name == \"Civil Engineering\":\n",
    "                    while(rtext[i]!=\"Status:\"):\n",
    "                        i=i+1\n",
    "                    i=i+1\n",
    "                    if(len(rtext[i].split(\"  \"))>1):\n",
    "                        hom = rtext[i].split(\"  \")[1][1:]\n",
    "                    else:\n",
    "                        hom = rtext[i].split(\"  \")[0][1:]\n",
    "                    \n",
    "                    \n",
    "                    while(i<len(rtext) and rtext[i].split(\" \")[0] != \"GOPENS\" and rtext[i].split()[0]!=\"GOPENH\"):\n",
    "                        i=i+1\n",
    "                    if(i<len(rtext)):\n",
    "                        g= rtext[i].split(\" \")[0]\n",
    "                    while(i<len(rtext) and rtext[i] != \"S\"):\n",
    "                        i=i+1\n",
    "                    i=i+1\n",
    "                    if(i<len(rtext)):\n",
    "                        rank = (int)(rtext[i].split(\" \")[0])\n",
    "\n",
    "                    data.append(Line(hom, college_id, college_name, branch_id, branch_name, g , rank))\n",
    "            i+=1\n",
    "\n",
    "data[0:5]"
   ]
  },
  {
   "cell_type": "markdown",
   "metadata": {},
   "source": [
    "### Lookup at a single page"
   ]
  },
  {
   "cell_type": "code",
   "execution_count": 22,
   "metadata": {
    "scrolled": true
   },
   "outputs": [
    {
     "data": {
      "text/plain": [
       "[Line(home_university='Sant Gadge Baba Amravati University', college_id='1105', college_name='Prof. Ram Meghe Institute of Technology & Research, Amravati', branch_id='110519110', branch_name='Civil Engineering', gopens_or_gopenh='GOPENH', rank=32149)]"
      ]
     },
     "execution_count": 22,
     "metadata": {},
     "output_type": "execute_result"
    }
   ],
   "source": [
    "import pdfplumber\n",
    "data1= []\n",
    "with pdfplumber.open(r\"C:\\Users\\Mohit Singh\\Desktop\\college_cutoffs.pdf\") as pdf:\n",
    "    first_page = pdf.pages[16]\n",
    "    text = first_page.extract_text(x_tolerance = 2, y_tolerance =0)\n",
    "    rtext= text.split('\\n')\n",
    "    i=0\n",
    "    while(i<len(rtext)):\n",
    "        g=\"\"\n",
    "        rank=\"\"\n",
    "        hom =\"\"\n",
    "        coll = college_re.search(rtext[i])\n",
    "        branch = branch_re.search(rtext[i])\n",
    "        if coll:\n",
    "            college_id, college_name = coll.group(1), coll.group(2)\n",
    "        if branch:\n",
    "            branch_id , branch_name = branch.group(1), branch.group(2)\n",
    "            if branch_name == \"Civil Engineering\":\n",
    "                while(rtext[i]!=\"Status:\"):\n",
    "                    i=i+1\n",
    "                i=i+1\n",
    "                hom = rtext[i].split(\"  \")[0][1:]\n",
    "                while(i<len(rtext) and rtext[i].split(\" \")[0] != \"GOPENS\" and rtext[i].split()[0]!=\"GOPENH\"):\n",
    "                    i=i+1\n",
    "                if(i<len(rtext)):\n",
    "                    g= rtext[i].split(\" \")[0]\n",
    "                while(i<len(rtext) and rtext[i] != \"S\"):\n",
    "                    i=i+1\n",
    "                i=i+1\n",
    "                if(i<len(rtext)):\n",
    "                    rank = (int)(rtext[i].split(\" \")[0])\n",
    "\n",
    "                data1.append(Line(hom, college_id, college_name, branch_id, branch_name, g , rank))\n",
    "        i+=1\n",
    "\n",
    "data1\n"
   ]
  },
  {
   "cell_type": "markdown",
   "metadata": {},
   "source": [
    "### Building of the Dataframe "
   ]
  },
  {
   "cell_type": "code",
   "execution_count": 29,
   "metadata": {
    "scrolled": true
   },
   "outputs": [
    {
     "data": {
      "text/html": [
       "<div>\n",
       "<style scoped>\n",
       "    .dataframe tbody tr th:only-of-type {\n",
       "        vertical-align: middle;\n",
       "    }\n",
       "\n",
       "    .dataframe tbody tr th {\n",
       "        vertical-align: top;\n",
       "    }\n",
       "\n",
       "    .dataframe thead th {\n",
       "        text-align: right;\n",
       "    }\n",
       "</style>\n",
       "<table border=\"1\" class=\"dataframe\">\n",
       "  <thead>\n",
       "    <tr style=\"text-align: right;\">\n",
       "      <th></th>\n",
       "      <th>home_university</th>\n",
       "      <th>college_id</th>\n",
       "      <th>college_name</th>\n",
       "      <th>branch_id</th>\n",
       "      <th>branch_name</th>\n",
       "      <th>gopens_or_gopenh</th>\n",
       "      <th>rank</th>\n",
       "    </tr>\n",
       "  </thead>\n",
       "  <tbody>\n",
       "    <tr>\n",
       "      <th>0</th>\n",
       "      <td>Sant Gadge Baba Amravati University</td>\n",
       "      <td>1002</td>\n",
       "      <td>Government College of Engineering, Amravati</td>\n",
       "      <td>100219110</td>\n",
       "      <td>Civil Engineering</td>\n",
       "      <td>GOPENS</td>\n",
       "      <td>9698</td>\n",
       "    </tr>\n",
       "    <tr>\n",
       "      <th>1</th>\n",
       "      <td>Dr. Babasaheb Ambedkar Technological Universit...</td>\n",
       "      <td>1012</td>\n",
       "      <td>Government Engineering College, Yavatmal</td>\n",
       "      <td>101219110</td>\n",
       "      <td>Civil Engineering</td>\n",
       "      <td>GOPENH</td>\n",
       "      <td>20224</td>\n",
       "    </tr>\n",
       "    <tr>\n",
       "      <th>2</th>\n",
       "      <td>Sant Gadge Baba Amravati University</td>\n",
       "      <td>1105</td>\n",
       "      <td>Prof. Ram Meghe Institute of Technology &amp; Rese...</td>\n",
       "      <td>110519110</td>\n",
       "      <td>Civil Engineering</td>\n",
       "      <td>GOPENH</td>\n",
       "      <td>32149</td>\n",
       "    </tr>\n",
       "    <tr>\n",
       "      <th>3</th>\n",
       "      <td>Sant Gadge Baba Amravati University</td>\n",
       "      <td>1105</td>\n",
       "      <td>Prof. Ram Meghe Institute of Technology &amp; Rese...</td>\n",
       "      <td>110519120</td>\n",
       "      <td>Civil Engineering</td>\n",
       "      <td>GOPENH</td>\n",
       "      <td>38173</td>\n",
       "    </tr>\n",
       "    <tr>\n",
       "      <th>4</th>\n",
       "      <td>Sant Gadge Baba Amravati University</td>\n",
       "      <td>1107</td>\n",
       "      <td>P. R. Pote (Patil) Education &amp; Welfare Trust's...</td>\n",
       "      <td>110719110</td>\n",
       "      <td>Civil Engineering</td>\n",
       "      <td>GOPENH</td>\n",
       "      <td>43898</td>\n",
       "    </tr>\n",
       "  </tbody>\n",
       "</table>\n",
       "</div>"
      ],
      "text/plain": [
       "                                     home_university college_id  \\\n",
       "0                Sant Gadge Baba Amravati University       1002   \n",
       "1  Dr. Babasaheb Ambedkar Technological Universit...       1012   \n",
       "2                Sant Gadge Baba Amravati University       1105   \n",
       "3                Sant Gadge Baba Amravati University       1105   \n",
       "4                Sant Gadge Baba Amravati University       1107   \n",
       "\n",
       "                                        college_name  branch_id  \\\n",
       "0        Government College of Engineering, Amravati  100219110   \n",
       "1           Government Engineering College, Yavatmal  101219110   \n",
       "2  Prof. Ram Meghe Institute of Technology & Rese...  110519110   \n",
       "3  Prof. Ram Meghe Institute of Technology & Rese...  110519120   \n",
       "4  P. R. Pote (Patil) Education & Welfare Trust's...  110719110   \n",
       "\n",
       "         branch_name gopens_or_gopenh   rank  \n",
       "0  Civil Engineering           GOPENS   9698  \n",
       "1  Civil Engineering           GOPENH  20224  \n",
       "2  Civil Engineering           GOPENH  32149  \n",
       "3  Civil Engineering           GOPENH  38173  \n",
       "4  Civil Engineering           GOPENH  43898  "
      ]
     },
     "execution_count": 29,
     "metadata": {},
     "output_type": "execute_result"
    }
   ],
   "source": [
    "df = pd.DataFrame(data)\n",
    "df.head()"
   ]
  },
  {
   "cell_type": "markdown",
   "metadata": {},
   "source": [
    "### Extracting the dataframe according to 'Savitribai Phule Pune University"
   ]
  },
  {
   "cell_type": "code",
   "execution_count": 28,
   "metadata": {},
   "outputs": [],
   "source": [
    "df1 = df.loc[df['home_university']=='Savitribai Phule Pune University']"
   ]
  },
  {
   "cell_type": "markdown",
   "metadata": {},
   "source": [
    "df1.head()"
   ]
  },
  {
   "cell_type": "markdown",
   "metadata": {},
   "source": [
    "### Sorting of the Dataframe to get top 10 colleges as desired in given task"
   ]
  },
  {
   "cell_type": "code",
   "execution_count": 31,
   "metadata": {},
   "outputs": [
    {
     "data": {
      "text/html": [
       "<div>\n",
       "<style scoped>\n",
       "    .dataframe tbody tr th:only-of-type {\n",
       "        vertical-align: middle;\n",
       "    }\n",
       "\n",
       "    .dataframe tbody tr th {\n",
       "        vertical-align: top;\n",
       "    }\n",
       "\n",
       "    .dataframe thead th {\n",
       "        text-align: right;\n",
       "    }\n",
       "</style>\n",
       "<table border=\"1\" class=\"dataframe\">\n",
       "  <thead>\n",
       "    <tr style=\"text-align: right;\">\n",
       "      <th></th>\n",
       "      <th>home_university</th>\n",
       "      <th>college_id</th>\n",
       "      <th>college_name</th>\n",
       "      <th>branch_id</th>\n",
       "      <th>branch_name</th>\n",
       "      <th>gopens_or_gopenh</th>\n",
       "      <th>rank</th>\n",
       "    </tr>\n",
       "  </thead>\n",
       "  <tbody>\n",
       "    <tr>\n",
       "      <th>168</th>\n",
       "      <td>Savitribai Phule Pune University</td>\n",
       "      <td>6006</td>\n",
       "      <td>College of Engineering, Pune</td>\n",
       "      <td>600619110</td>\n",
       "      <td>Civil Engineering</td>\n",
       "      <td>GOPENS</td>\n",
       "      <td>1255</td>\n",
       "    </tr>\n",
       "    <tr>\n",
       "      <th>166</th>\n",
       "      <td>Savitribai Phule Pune University</td>\n",
       "      <td>6004</td>\n",
       "      <td>Government College of Engineering &amp; Research, ...</td>\n",
       "      <td>600419110</td>\n",
       "      <td>Civil Engineering</td>\n",
       "      <td>GOPENH</td>\n",
       "      <td>12456</td>\n",
       "    </tr>\n",
       "    <tr>\n",
       "      <th>180</th>\n",
       "      <td>Savitribai Phule Pune University</td>\n",
       "      <td>6175</td>\n",
       "      <td>Pimpri Chinchwad Education Trust, Pimpri Chinc...</td>\n",
       "      <td>617519110</td>\n",
       "      <td>Civil Engineering</td>\n",
       "      <td>GOPENH</td>\n",
       "      <td>12971</td>\n",
       "    </tr>\n",
       "    <tr>\n",
       "      <th>210</th>\n",
       "      <td>Savitribai Phule Pune University</td>\n",
       "      <td>6289</td>\n",
       "      <td>B.R.A.C.T's Vishwakarma Institute of Informati...</td>\n",
       "      <td>628919110</td>\n",
       "      <td>Civil Engineering</td>\n",
       "      <td>GOPENS</td>\n",
       "      <td>14178</td>\n",
       "    </tr>\n",
       "    <tr>\n",
       "      <th>175</th>\n",
       "      <td>Savitribai Phule Pune University</td>\n",
       "      <td>6146</td>\n",
       "      <td>MIT Academy of Engineering,Alandi, Pune</td>\n",
       "      <td>614619110</td>\n",
       "      <td>Civil Engineering</td>\n",
       "      <td>GOPENS</td>\n",
       "      <td>16173</td>\n",
       "    </tr>\n",
       "    <tr>\n",
       "      <th>131</th>\n",
       "      <td>Savitribai Phule Pune University</td>\n",
       "      <td>5121</td>\n",
       "      <td>K. K. Wagh Institute of Engineering Education ...</td>\n",
       "      <td>512119110</td>\n",
       "      <td>Civil Engineering</td>\n",
       "      <td>GOPENH</td>\n",
       "      <td>22937</td>\n",
       "    </tr>\n",
       "    <tr>\n",
       "      <th>223</th>\n",
       "      <td>Savitribai Phule Pune University</td>\n",
       "      <td>6325</td>\n",
       "      <td>Alard  Charitable Trust's Alard College of Eng...</td>\n",
       "      <td>632519110</td>\n",
       "      <td>Civil Engineering</td>\n",
       "      <td>GOPENH</td>\n",
       "      <td>23543</td>\n",
       "    </tr>\n",
       "    <tr>\n",
       "      <th>161</th>\n",
       "      <td>Savitribai Phule Pune University</td>\n",
       "      <td>5401</td>\n",
       "      <td>Jawahar Education Society's Institute of Techn...</td>\n",
       "      <td>540119110</td>\n",
       "      <td>Civil Engineering</td>\n",
       "      <td>GOPENH</td>\n",
       "      <td>27370</td>\n",
       "    </tr>\n",
       "    <tr>\n",
       "      <th>206</th>\n",
       "      <td>Savitribai Phule Pune University</td>\n",
       "      <td>6278</td>\n",
       "      <td>All India Shri Shivaji Memorial Society's Coll...</td>\n",
       "      <td>627819110</td>\n",
       "      <td>Civil Engineering</td>\n",
       "      <td>GOPENH</td>\n",
       "      <td>28635</td>\n",
       "    </tr>\n",
       "    <tr>\n",
       "      <th>151</th>\n",
       "      <td>Savitribai Phule Pune University</td>\n",
       "      <td>5184</td>\n",
       "      <td>Amruta Vaishnavi Education &amp; Welfare Trust's S...</td>\n",
       "      <td>518419110</td>\n",
       "      <td>Civil Engineering</td>\n",
       "      <td>GOPENH</td>\n",
       "      <td>32066</td>\n",
       "    </tr>\n",
       "  </tbody>\n",
       "</table>\n",
       "</div>"
      ],
      "text/plain": [
       "                      home_university college_id  \\\n",
       "168  Savitribai Phule Pune University       6006   \n",
       "166  Savitribai Phule Pune University       6004   \n",
       "180  Savitribai Phule Pune University       6175   \n",
       "210  Savitribai Phule Pune University       6289   \n",
       "175  Savitribai Phule Pune University       6146   \n",
       "131  Savitribai Phule Pune University       5121   \n",
       "223  Savitribai Phule Pune University       6325   \n",
       "161  Savitribai Phule Pune University       5401   \n",
       "206  Savitribai Phule Pune University       6278   \n",
       "151  Savitribai Phule Pune University       5184   \n",
       "\n",
       "                                          college_name  branch_id  \\\n",
       "168                       College of Engineering, Pune  600619110   \n",
       "166  Government College of Engineering & Research, ...  600419110   \n",
       "180  Pimpri Chinchwad Education Trust, Pimpri Chinc...  617519110   \n",
       "210  B.R.A.C.T's Vishwakarma Institute of Informati...  628919110   \n",
       "175            MIT Academy of Engineering,Alandi, Pune  614619110   \n",
       "131  K. K. Wagh Institute of Engineering Education ...  512119110   \n",
       "223  Alard  Charitable Trust's Alard College of Eng...  632519110   \n",
       "161  Jawahar Education Society's Institute of Techn...  540119110   \n",
       "206  All India Shri Shivaji Memorial Society's Coll...  627819110   \n",
       "151  Amruta Vaishnavi Education & Welfare Trust's S...  518419110   \n",
       "\n",
       "           branch_name gopens_or_gopenh   rank  \n",
       "168  Civil Engineering           GOPENS   1255  \n",
       "166  Civil Engineering           GOPENH  12456  \n",
       "180  Civil Engineering           GOPENH  12971  \n",
       "210  Civil Engineering           GOPENS  14178  \n",
       "175  Civil Engineering           GOPENS  16173  \n",
       "131  Civil Engineering           GOPENH  22937  \n",
       "223  Civil Engineering           GOPENH  23543  \n",
       "161  Civil Engineering           GOPENH  27370  \n",
       "206  Civil Engineering           GOPENH  28635  \n",
       "151  Civil Engineering           GOPENH  32066  "
      ]
     },
     "execution_count": 31,
     "metadata": {},
     "output_type": "execute_result"
    }
   ],
   "source": [
    "df1.sort_values('rank').head(10)"
   ]
  },
  {
   "cell_type": "markdown",
   "metadata": {},
   "source": [
    "** Here is the result of the given task as per your requirement**"
   ]
  }
 ],
 "metadata": {
  "kernelspec": {
   "display_name": "Python 3",
   "language": "python",
   "name": "python3"
  },
  "language_info": {
   "codemirror_mode": {
    "name": "ipython",
    "version": 3
   },
   "file_extension": ".py",
   "mimetype": "text/x-python",
   "name": "python",
   "nbconvert_exporter": "python",
   "pygments_lexer": "ipython3",
   "version": "3.7.6"
  }
 },
 "nbformat": 4,
 "nbformat_minor": 4
}
